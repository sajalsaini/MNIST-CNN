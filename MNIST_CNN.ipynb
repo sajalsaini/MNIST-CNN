{
  "nbformat": 4,
  "nbformat_minor": 0,
  "metadata": {
    "colab": {
      "name": "MNIST_CNN.ipynb",
      "provenance": [],
      "collapsed_sections": [],
      "authorship_tag": "ABX9TyNM9V2eZC3taF1+8U5H2W6t",
      "include_colab_link": true
    },
    "kernelspec": {
      "name": "python3",
      "display_name": "Python 3"
    },
    "accelerator": "GPU"
  },
  "cells": [
    {
      "cell_type": "markdown",
      "metadata": {
        "id": "view-in-github",
        "colab_type": "text"
      },
      "source": [
        "<a href=\"https://colab.research.google.com/github/sajalsaini/MNIST-CNN/blob/master/MNIST_CNN.ipynb\" target=\"_parent\"><img src=\"https://colab.research.google.com/assets/colab-badge.svg\" alt=\"Open In Colab\"/></a>"
      ]
    },
    {
      "cell_type": "code",
      "metadata": {
        "id": "SjVDxI-HS8wU",
        "colab_type": "code",
        "colab": {
          "base_uri": "https://localhost:8080/",
          "height": 34
        },
        "outputId": "e4af32d7-d309-4a01-bcad-f7282cee13f6"
      },
      "source": [
        "from keras.datasets import mnist\n",
        "from keras.models import Sequential \n",
        "from keras.layers import Conv2D, MaxPooling2D, Dense, Flatten, Dropout\n",
        "from keras.utils import np_utils"
      ],
      "execution_count": 1,
      "outputs": [
        {
          "output_type": "stream",
          "text": [
            "Using TensorFlow backend.\n"
          ],
          "name": "stderr"
        }
      ]
    },
    {
      "cell_type": "code",
      "metadata": {
        "id": "UHCB88XX9wb-",
        "colab_type": "code",
        "colab": {
          "base_uri": "https://localhost:8080/",
          "height": 462
        },
        "outputId": "b7583c6a-c457-4121-ae08-183161c1bd69"
      },
      "source": [
        "!pip install wandb"
      ],
      "execution_count": 2,
      "outputs": [
        {
          "output_type": "stream",
          "text": [
            "Requirement already satisfied: wandb in /usr/local/lib/python3.6/dist-packages (0.8.25)\n",
            "Requirement already satisfied: GitPython>=1.0.0 in /usr/local/lib/python3.6/dist-packages (from wandb) (3.0.7)\n",
            "Requirement already satisfied: watchdog>=0.8.3 in /usr/local/lib/python3.6/dist-packages (from wandb) (0.10.1)\n",
            "Requirement already satisfied: PyYAML>=3.10 in /usr/local/lib/python3.6/dist-packages (from wandb) (3.13)\n",
            "Requirement already satisfied: Click>=7.0 in /usr/local/lib/python3.6/dist-packages (from wandb) (7.0)\n",
            "Requirement already satisfied: sentry-sdk>=0.4.0 in /usr/local/lib/python3.6/dist-packages (from wandb) (0.14.1)\n",
            "Requirement already satisfied: six>=1.10.0 in /usr/local/lib/python3.6/dist-packages (from wandb) (1.12.0)\n",
            "Requirement already satisfied: docker-pycreds>=0.4.0 in /usr/local/lib/python3.6/dist-packages (from wandb) (0.4.0)\n",
            "Requirement already satisfied: shortuuid>=0.5.0 in /usr/local/lib/python3.6/dist-packages (from wandb) (0.5.0)\n",
            "Requirement already satisfied: requests>=2.0.0 in /usr/local/lib/python3.6/dist-packages (from wandb) (2.21.0)\n",
            "Requirement already satisfied: gql==0.2.0 in /usr/local/lib/python3.6/dist-packages (from wandb) (0.2.0)\n",
            "Requirement already satisfied: subprocess32>=3.5.3 in /usr/local/lib/python3.6/dist-packages (from wandb) (3.5.4)\n",
            "Requirement already satisfied: configparser>=3.8.1 in /usr/local/lib/python3.6/dist-packages (from wandb) (4.0.2)\n",
            "Requirement already satisfied: psutil>=5.0.0 in /usr/local/lib/python3.6/dist-packages (from wandb) (5.4.8)\n",
            "Requirement already satisfied: python-dateutil>=2.6.1 in /usr/local/lib/python3.6/dist-packages (from wandb) (2.6.1)\n",
            "Requirement already satisfied: nvidia-ml-py3>=7.352.0 in /usr/local/lib/python3.6/dist-packages (from wandb) (7.352.0)\n",
            "Requirement already satisfied: gitdb2>=2.0.0 in /usr/local/lib/python3.6/dist-packages (from GitPython>=1.0.0->wandb) (2.0.6)\n",
            "Requirement already satisfied: pathtools>=0.1.1 in /usr/local/lib/python3.6/dist-packages (from watchdog>=0.8.3->wandb) (0.1.2)\n",
            "Requirement already satisfied: urllib3>=1.10.0 in /usr/local/lib/python3.6/dist-packages (from sentry-sdk>=0.4.0->wandb) (1.24.3)\n",
            "Requirement already satisfied: certifi in /usr/local/lib/python3.6/dist-packages (from sentry-sdk>=0.4.0->wandb) (2019.11.28)\n",
            "Requirement already satisfied: idna<2.9,>=2.5 in /usr/local/lib/python3.6/dist-packages (from requests>=2.0.0->wandb) (2.8)\n",
            "Requirement already satisfied: chardet<3.1.0,>=3.0.2 in /usr/local/lib/python3.6/dist-packages (from requests>=2.0.0->wandb) (3.0.4)\n",
            "Requirement already satisfied: graphql-core<2,>=0.5.0 in /usr/local/lib/python3.6/dist-packages (from gql==0.2.0->wandb) (1.1)\n",
            "Requirement already satisfied: promise<3,>=2.0 in /usr/local/lib/python3.6/dist-packages (from gql==0.2.0->wandb) (2.3)\n",
            "Requirement already satisfied: smmap2>=2.0.0 in /usr/local/lib/python3.6/dist-packages (from gitdb2>=2.0.0->GitPython>=1.0.0->wandb) (2.0.5)\n"
          ],
          "name": "stdout"
        }
      ]
    },
    {
      "cell_type": "code",
      "metadata": {
        "id": "MVRjUeRQ98QT",
        "colab_type": "code",
        "colab": {}
      },
      "source": [
        "import wandb\n",
        "from wandb.keras import WandbCallback"
      ],
      "execution_count": 0,
      "outputs": []
    },
    {
      "cell_type": "code",
      "metadata": {
        "id": "XP-OA-Ld-Frv",
        "colab_type": "code",
        "colab": {}
      },
      "source": [
        "import os"
      ],
      "execution_count": 0,
      "outputs": []
    },
    {
      "cell_type": "code",
      "metadata": {
        "id": "icXd10Ar-HE5",
        "colab_type": "code",
        "colab": {
          "base_uri": "https://localhost:8080/",
          "height": 68
        },
        "outputId": "3019c83c-e1d2-4f34-c3cb-e203b3bcd5c4"
      },
      "source": [
        "run = wandb.init()"
      ],
      "execution_count": 5,
      "outputs": [
        {
          "output_type": "display_data",
          "data": {
            "text/html": [
              "\n",
              "                Logging results to <a href=\"https://wandb.com\" target=\"_blank\">Weights & Biases</a> <a href=\"https://docs.wandb.com/integrations/jupyter.html\" target=\"_blank\">(Documentation)</a>.<br/>\n",
              "                Project page: <a href=\"https://app.wandb.ai/univai-fall/uncategorized\" target=\"_blank\">https://app.wandb.ai/univai-fall/uncategorized</a><br/>\n",
              "                Run page: <a href=\"https://app.wandb.ai/univai-fall/uncategorized/runs/umxo9uiq\" target=\"_blank\">https://app.wandb.ai/univai-fall/uncategorized/runs/umxo9uiq</a><br/>\n",
              "            "
            ],
            "text/plain": [
              "<IPython.core.display.HTML object>"
            ]
          },
          "metadata": {
            "tags": []
          }
        }
      ]
    },
    {
      "cell_type": "code",
      "metadata": {
        "id": "tOxTETj8-X08",
        "colab_type": "code",
        "colab": {}
      },
      "source": [
        "config = run.config"
      ],
      "execution_count": 0,
      "outputs": []
    },
    {
      "cell_type": "code",
      "metadata": {
        "id": "GtUWZS-1-aLn",
        "colab_type": "code",
        "colab": {}
      },
      "source": [
        "config.first_layer_convs = 32\n",
        "config.first_layer_conv_width = 3\n",
        "config.first_layer_conv_height = 3\n",
        "config.dropout = 0.2\n",
        "config.dense_layer_size = 128\n",
        "config.img_width = 28\n",
        "config.img_height = 28\n",
        "config.epochs = 50"
      ],
      "execution_count": 0,
      "outputs": []
    },
    {
      "cell_type": "code",
      "metadata": {
        "id": "Jp30FHIb_1dO",
        "colab_type": "code",
        "colab": {}
      },
      "source": [
        "(X_train, y_train), (X_test, y_test) = mnist.load_data()"
      ],
      "execution_count": 0,
      "outputs": []
    },
    {
      "cell_type": "code",
      "metadata": {
        "id": "a-yvdSiV_-i1",
        "colab_type": "code",
        "colab": {}
      },
      "source": [
        "X_train = X_train.astype('float32')\n",
        "X_train /= 255"
      ],
      "execution_count": 0,
      "outputs": []
    },
    {
      "cell_type": "code",
      "metadata": {
        "id": "hrD_3k5BDetN",
        "colab_type": "code",
        "colab": {}
      },
      "source": [
        "X_test = X_test.astype(\"float32\")\n",
        "X_test /= 255"
      ],
      "execution_count": 0,
      "outputs": []
    },
    {
      "cell_type": "code",
      "metadata": {
        "id": "jWPAUXhODux4",
        "colab_type": "code",
        "colab": {}
      },
      "source": [
        "X_train = X_train.reshape(X_train.shape[0],\n",
        "                          config.img_width,\n",
        "                          config.img_height, \n",
        "                          1)"
      ],
      "execution_count": 0,
      "outputs": []
    },
    {
      "cell_type": "code",
      "metadata": {
        "id": "B3rLs9_3EL08",
        "colab_type": "code",
        "colab": {}
      },
      "source": [
        "X_test = X_test.reshape(X_test.shape[0],\n",
        "                        config.img_width,\n",
        "                        config.img_height,\n",
        "                        1)"
      ],
      "execution_count": 0,
      "outputs": []
    },
    {
      "cell_type": "code",
      "metadata": {
        "id": "IIRPVZe9EV4A",
        "colab_type": "code",
        "colab": {}
      },
      "source": [
        "y_train = np_utils.to_categorical(y_train)"
      ],
      "execution_count": 0,
      "outputs": []
    },
    {
      "cell_type": "code",
      "metadata": {
        "id": "1fuYPfcFEtyW",
        "colab_type": "code",
        "colab": {}
      },
      "source": [
        "y_test = np_utils.to_categorical(y_test)"
      ],
      "execution_count": 0,
      "outputs": []
    },
    {
      "cell_type": "code",
      "metadata": {
        "id": "DioqomlJE2_A",
        "colab_type": "code",
        "colab": {}
      },
      "source": [
        "num_classes = y_test.shape[1]"
      ],
      "execution_count": 0,
      "outputs": []
    },
    {
      "cell_type": "code",
      "metadata": {
        "id": "to4vTru5E65V",
        "colab_type": "code",
        "colab": {}
      },
      "source": [
        "labels = range(10)"
      ],
      "execution_count": 0,
      "outputs": []
    },
    {
      "cell_type": "code",
      "metadata": {
        "id": "q3mDBnElE-C3",
        "colab_type": "code",
        "colab": {
          "base_uri": "https://localhost:8080/",
          "height": 71
        },
        "outputId": "48e5ba68-b0ac-44c9-bcbb-718547699d92"
      },
      "source": [
        "model = Sequential()"
      ],
      "execution_count": 17,
      "outputs": [
        {
          "output_type": "stream",
          "text": [
            "WARNING:tensorflow:From /usr/local/lib/python3.6/dist-packages/keras/backend/tensorflow_backend.py:66: The name tf.get_default_graph is deprecated. Please use tf.compat.v1.get_default_graph instead.\n",
            "\n"
          ],
          "name": "stdout"
        }
      ]
    },
    {
      "cell_type": "code",
      "metadata": {
        "id": "JNVZLGkvFA0g",
        "colab_type": "code",
        "colab": {
          "base_uri": "https://localhost:8080/",
          "height": 105
        },
        "outputId": "7895ccc7-6ad4-4c23-c3b5-6b9d10a7bd0d"
      },
      "source": [
        "model.add(Conv2D(32,\n",
        "                 (config.first_layer_conv_width,config.first_layer_conv_height),\n",
        "                 input_shape = (28, 28, 1),\n",
        "                 activation = \"relu\"))"
      ],
      "execution_count": 18,
      "outputs": [
        {
          "output_type": "stream",
          "text": [
            "WARNING:tensorflow:From /usr/local/lib/python3.6/dist-packages/keras/backend/tensorflow_backend.py:541: The name tf.placeholder is deprecated. Please use tf.compat.v1.placeholder instead.\n",
            "\n",
            "WARNING:tensorflow:From /usr/local/lib/python3.6/dist-packages/keras/backend/tensorflow_backend.py:4432: The name tf.random_uniform is deprecated. Please use tf.random.uniform instead.\n",
            "\n"
          ],
          "name": "stdout"
        }
      ]
    },
    {
      "cell_type": "code",
      "metadata": {
        "id": "tZqgUW7EFgEd",
        "colab_type": "code",
        "colab": {}
      },
      "source": [
        "model.add(Conv2D(64,\n",
        "                 (3,3),\n",
        "                 activation = \"relu\"))"
      ],
      "execution_count": 0,
      "outputs": []
    },
    {
      "cell_type": "code",
      "metadata": {
        "id": "AQw0WPk8FwsX",
        "colab_type": "code",
        "colab": {
          "base_uri": "https://localhost:8080/",
          "height": 71
        },
        "outputId": "d1659389-351f-40d5-d976-cb0ec4a7f3ed"
      },
      "source": [
        "model.add(MaxPooling2D(pool_size = (2,2)))"
      ],
      "execution_count": 20,
      "outputs": [
        {
          "output_type": "stream",
          "text": [
            "WARNING:tensorflow:From /usr/local/lib/python3.6/dist-packages/keras/backend/tensorflow_backend.py:4267: The name tf.nn.max_pool is deprecated. Please use tf.nn.max_pool2d instead.\n",
            "\n"
          ],
          "name": "stdout"
        }
      ]
    },
    {
      "cell_type": "code",
      "metadata": {
        "id": "ZSv3Cpq9IMJz",
        "colab_type": "code",
        "colab": {
          "base_uri": "https://localhost:8080/",
          "height": 122
        },
        "outputId": "ea1fbe6d-a5a6-4c28-8a10-d7be60d13a75"
      },
      "source": [
        "model.add(Dropout(0.25))"
      ],
      "execution_count": 21,
      "outputs": [
        {
          "output_type": "stream",
          "text": [
            "WARNING:tensorflow:From /usr/local/lib/python3.6/dist-packages/keras/backend/tensorflow_backend.py:148: The name tf.placeholder_with_default is deprecated. Please use tf.compat.v1.placeholder_with_default instead.\n",
            "\n",
            "WARNING:tensorflow:From /usr/local/lib/python3.6/dist-packages/keras/backend/tensorflow_backend.py:3733: calling dropout (from tensorflow.python.ops.nn_ops) with keep_prob is deprecated and will be removed in a future version.\n",
            "Instructions for updating:\n",
            "Please use `rate` instead of `keep_prob`. Rate should be set to `rate = 1 - keep_prob`.\n"
          ],
          "name": "stdout"
        }
      ]
    },
    {
      "cell_type": "code",
      "metadata": {
        "id": "MeS6tWJ0F2_Z",
        "colab_type": "code",
        "colab": {}
      },
      "source": [
        "model.add(Flatten())"
      ],
      "execution_count": 0,
      "outputs": []
    },
    {
      "cell_type": "code",
      "metadata": {
        "id": "Xb7WPWmxF6q2",
        "colab_type": "code",
        "colab": {}
      },
      "source": [
        "model.add(Dense(config.dense_layer_size, activation = \"relu\"))"
      ],
      "execution_count": 0,
      "outputs": []
    },
    {
      "cell_type": "code",
      "metadata": {
        "id": "O8WV6nmxIb6o",
        "colab_type": "code",
        "colab": {}
      },
      "source": [
        "model.add(Dropout(0.25))"
      ],
      "execution_count": 0,
      "outputs": []
    },
    {
      "cell_type": "code",
      "metadata": {
        "id": "_H7ZKKFoGCuo",
        "colab_type": "code",
        "colab": {}
      },
      "source": [
        "model.add(Dense(num_classes, activation = \"softmax\"))"
      ],
      "execution_count": 0,
      "outputs": []
    },
    {
      "cell_type": "code",
      "metadata": {
        "id": "i9Xs-z8ZGKcD",
        "colab_type": "code",
        "colab": {
          "base_uri": "https://localhost:8080/",
          "height": 105
        },
        "outputId": "ed827850-ea39-41bc-d4d6-6f1100d666a4"
      },
      "source": [
        "model.compile(loss = \"categorical_crossentropy\",\n",
        "              optimizer = \"adam\",\n",
        "              metrics = ['accuracy'])"
      ],
      "execution_count": 26,
      "outputs": [
        {
          "output_type": "stream",
          "text": [
            "WARNING:tensorflow:From /usr/local/lib/python3.6/dist-packages/keras/optimizers.py:793: The name tf.train.Optimizer is deprecated. Please use tf.compat.v1.train.Optimizer instead.\n",
            "\n",
            "WARNING:tensorflow:From /usr/local/lib/python3.6/dist-packages/keras/backend/tensorflow_backend.py:3576: The name tf.log is deprecated. Please use tf.math.log instead.\n",
            "\n"
          ],
          "name": "stdout"
        }
      ]
    },
    {
      "cell_type": "code",
      "metadata": {
        "id": "WFH8gufsGkvd",
        "colab_type": "code",
        "colab": {
          "base_uri": "https://localhost:8080/",
          "height": 425
        },
        "outputId": "54a19336-eb23-4d8b-e795-d3aa66c20e00"
      },
      "source": [
        "model.summary()"
      ],
      "execution_count": 27,
      "outputs": [
        {
          "output_type": "stream",
          "text": [
            "Model: \"sequential_1\"\n",
            "_________________________________________________________________\n",
            "Layer (type)                 Output Shape              Param #   \n",
            "=================================================================\n",
            "conv2d_1 (Conv2D)            (None, 26, 26, 32)        320       \n",
            "_________________________________________________________________\n",
            "conv2d_2 (Conv2D)            (None, 24, 24, 64)        18496     \n",
            "_________________________________________________________________\n",
            "max_pooling2d_1 (MaxPooling2 (None, 12, 12, 64)        0         \n",
            "_________________________________________________________________\n",
            "dropout_1 (Dropout)          (None, 12, 12, 64)        0         \n",
            "_________________________________________________________________\n",
            "flatten_1 (Flatten)          (None, 9216)              0         \n",
            "_________________________________________________________________\n",
            "dense_1 (Dense)              (None, 128)               1179776   \n",
            "_________________________________________________________________\n",
            "dropout_2 (Dropout)          (None, 128)               0         \n",
            "_________________________________________________________________\n",
            "dense_2 (Dense)              (None, 10)                1290      \n",
            "=================================================================\n",
            "Total params: 1,199,882\n",
            "Trainable params: 1,199,882\n",
            "Non-trainable params: 0\n",
            "_________________________________________________________________\n"
          ],
          "name": "stdout"
        }
      ]
    },
    {
      "cell_type": "code",
      "metadata": {
        "id": "9T4E7m2GGmly",
        "colab_type": "code",
        "colab": {
          "base_uri": "https://localhost:8080/",
          "height": 1000
        },
        "outputId": "3f5a3455-43f1-408a-c86b-8b7a39e0f8cb"
      },
      "source": [
        "model.fit(X_train,\n",
        "          y_train,\n",
        "          validation_data = (X_test, y_test),\n",
        "          epochs = config.epochs,\n",
        "          callbacks = [WandbCallback(data_type = 'image', save_model = False)])"
      ],
      "execution_count": 28,
      "outputs": [
        {
          "output_type": "stream",
          "text": [
            "WARNING:tensorflow:From /usr/local/lib/python3.6/dist-packages/tensorflow_core/python/ops/math_grad.py:1424: where (from tensorflow.python.ops.array_ops) is deprecated and will be removed in a future version.\n",
            "Instructions for updating:\n",
            "Use tf.where in 2.0, which has the same broadcast rule as np.where\n",
            "WARNING:tensorflow:From /usr/local/lib/python3.6/dist-packages/keras/backend/tensorflow_backend.py:1033: The name tf.assign_add is deprecated. Please use tf.compat.v1.assign_add instead.\n",
            "\n",
            "WARNING:tensorflow:From /usr/local/lib/python3.6/dist-packages/keras/backend/tensorflow_backend.py:1020: The name tf.assign is deprecated. Please use tf.compat.v1.assign instead.\n",
            "\n",
            "WARNING:tensorflow:From /usr/local/lib/python3.6/dist-packages/keras/backend/tensorflow_backend.py:3005: The name tf.Session is deprecated. Please use tf.compat.v1.Session instead.\n",
            "\n",
            "Train on 60000 samples, validate on 10000 samples\n",
            "Epoch 1/50\n",
            "WARNING:tensorflow:From /usr/local/lib/python3.6/dist-packages/keras/backend/tensorflow_backend.py:190: The name tf.get_default_session is deprecated. Please use tf.compat.v1.get_default_session instead.\n",
            "\n",
            "WARNING:tensorflow:From /usr/local/lib/python3.6/dist-packages/keras/backend/tensorflow_backend.py:197: The name tf.ConfigProto is deprecated. Please use tf.compat.v1.ConfigProto instead.\n",
            "\n",
            "WARNING:tensorflow:From /usr/local/lib/python3.6/dist-packages/keras/backend/tensorflow_backend.py:207: The name tf.global_variables is deprecated. Please use tf.compat.v1.global_variables instead.\n",
            "\n",
            "WARNING:tensorflow:From /usr/local/lib/python3.6/dist-packages/keras/backend/tensorflow_backend.py:216: The name tf.is_variable_initialized is deprecated. Please use tf.compat.v1.is_variable_initialized instead.\n",
            "\n",
            "WARNING:tensorflow:From /usr/local/lib/python3.6/dist-packages/keras/backend/tensorflow_backend.py:223: The name tf.variables_initializer is deprecated. Please use tf.compat.v1.variables_initializer instead.\n",
            "\n",
            "60000/60000 [==============================] - 24s 393us/step - loss: 0.1413 - acc: 0.9580 - val_loss: 0.0426 - val_acc: 0.9870\n",
            "Epoch 2/50\n",
            "60000/60000 [==============================] - 10s 159us/step - loss: 0.0541 - acc: 0.9837 - val_loss: 0.0354 - val_acc: 0.9884\n",
            "Epoch 3/50\n",
            "60000/60000 [==============================] - 9s 157us/step - loss: 0.0391 - acc: 0.9878 - val_loss: 0.0421 - val_acc: 0.9879\n",
            "Epoch 4/50\n",
            "60000/60000 [==============================] - 9s 158us/step - loss: 0.0303 - acc: 0.9897 - val_loss: 0.0320 - val_acc: 0.9902\n",
            "Epoch 5/50\n",
            "60000/60000 [==============================] - 10s 164us/step - loss: 0.0244 - acc: 0.9919 - val_loss: 0.0321 - val_acc: 0.9908\n",
            "Epoch 6/50\n",
            "60000/60000 [==============================] - 9s 156us/step - loss: 0.0202 - acc: 0.9938 - val_loss: 0.0272 - val_acc: 0.9928\n",
            "Epoch 7/50\n",
            "60000/60000 [==============================] - 9s 157us/step - loss: 0.0177 - acc: 0.9945 - val_loss: 0.0356 - val_acc: 0.9909\n",
            "Epoch 8/50\n",
            "60000/60000 [==============================] - 9s 157us/step - loss: 0.0148 - acc: 0.9951 - val_loss: 0.0355 - val_acc: 0.9923\n",
            "Epoch 9/50\n",
            "60000/60000 [==============================] - 9s 156us/step - loss: 0.0141 - acc: 0.9954 - val_loss: 0.0285 - val_acc: 0.9929\n",
            "Epoch 10/50\n",
            "60000/60000 [==============================] - 9s 156us/step - loss: 0.0117 - acc: 0.9961 - val_loss: 0.0314 - val_acc: 0.9923\n",
            "Epoch 11/50\n",
            "60000/60000 [==============================] - 9s 155us/step - loss: 0.0113 - acc: 0.9964 - val_loss: 0.0312 - val_acc: 0.9922\n",
            "Epoch 12/50\n",
            "60000/60000 [==============================] - 9s 154us/step - loss: 0.0104 - acc: 0.9966 - val_loss: 0.0410 - val_acc: 0.9911\n",
            "Epoch 13/50\n",
            "60000/60000 [==============================] - 9s 158us/step - loss: 0.0097 - acc: 0.9969 - val_loss: 0.0367 - val_acc: 0.9927\n",
            "Epoch 14/50\n",
            "60000/60000 [==============================] - 9s 156us/step - loss: 0.0089 - acc: 0.9968 - val_loss: 0.0422 - val_acc: 0.9926\n",
            "Epoch 15/50\n",
            "60000/60000 [==============================] - 10s 159us/step - loss: 0.0098 - acc: 0.9967 - val_loss: 0.0383 - val_acc: 0.9916\n",
            "Epoch 16/50\n",
            "60000/60000 [==============================] - 9s 155us/step - loss: 0.0089 - acc: 0.9972 - val_loss: 0.0456 - val_acc: 0.9909\n",
            "Epoch 17/50\n",
            "60000/60000 [==============================] - 9s 156us/step - loss: 0.0091 - acc: 0.9970 - val_loss: 0.0465 - val_acc: 0.9909\n",
            "Epoch 18/50\n",
            "60000/60000 [==============================] - 9s 157us/step - loss: 0.0076 - acc: 0.9974 - val_loss: 0.0401 - val_acc: 0.9914\n",
            "Epoch 19/50\n",
            "60000/60000 [==============================] - 9s 156us/step - loss: 0.0080 - acc: 0.9975 - val_loss: 0.0383 - val_acc: 0.9915\n",
            "Epoch 20/50\n",
            "60000/60000 [==============================] - 9s 157us/step - loss: 0.0075 - acc: 0.9978 - val_loss: 0.0475 - val_acc: 0.9907\n",
            "Epoch 21/50\n",
            "60000/60000 [==============================] - 9s 156us/step - loss: 0.0070 - acc: 0.9978 - val_loss: 0.0452 - val_acc: 0.9923\n",
            "Epoch 22/50\n",
            "60000/60000 [==============================] - 9s 155us/step - loss: 0.0065 - acc: 0.9978 - val_loss: 0.0486 - val_acc: 0.9922\n",
            "Epoch 23/50\n",
            "60000/60000 [==============================] - 9s 156us/step - loss: 0.0082 - acc: 0.9976 - val_loss: 0.0391 - val_acc: 0.9924\n",
            "Epoch 24/50\n",
            "60000/60000 [==============================] - 9s 155us/step - loss: 0.0062 - acc: 0.9982 - val_loss: 0.0486 - val_acc: 0.9921\n",
            "Epoch 25/50\n",
            "60000/60000 [==============================] - 9s 154us/step - loss: 0.0062 - acc: 0.9983 - val_loss: 0.0475 - val_acc: 0.9927\n",
            "Epoch 26/50\n",
            "60000/60000 [==============================] - 9s 157us/step - loss: 0.0066 - acc: 0.9979 - val_loss: 0.0518 - val_acc: 0.9925\n",
            "Epoch 27/50\n",
            "60000/60000 [==============================] - 9s 158us/step - loss: 0.0052 - acc: 0.9984 - val_loss: 0.0503 - val_acc: 0.9923\n",
            "Epoch 28/50\n",
            "60000/60000 [==============================] - 9s 155us/step - loss: 0.0057 - acc: 0.9983 - val_loss: 0.0749 - val_acc: 0.9905\n",
            "Epoch 29/50\n",
            "60000/60000 [==============================] - 9s 156us/step - loss: 0.0076 - acc: 0.9979 - val_loss: 0.0546 - val_acc: 0.9921\n",
            "Epoch 30/50\n",
            "60000/60000 [==============================] - 9s 155us/step - loss: 0.0045 - acc: 0.9987 - val_loss: 0.0592 - val_acc: 0.9917\n",
            "Epoch 31/50\n",
            "60000/60000 [==============================] - 9s 155us/step - loss: 0.0075 - acc: 0.9981 - val_loss: 0.0458 - val_acc: 0.9924\n",
            "Epoch 32/50\n",
            "60000/60000 [==============================] - 9s 155us/step - loss: 0.0061 - acc: 0.9983 - val_loss: 0.0569 - val_acc: 0.9893\n",
            "Epoch 33/50\n",
            "60000/60000 [==============================] - 9s 158us/step - loss: 0.0056 - acc: 0.9984 - val_loss: 0.0608 - val_acc: 0.9917\n",
            "Epoch 34/50\n",
            "60000/60000 [==============================] - 9s 156us/step - loss: 0.0056 - acc: 0.9985 - val_loss: 0.0452 - val_acc: 0.9920\n",
            "Epoch 35/50\n",
            "60000/60000 [==============================] - 9s 155us/step - loss: 0.0050 - acc: 0.9985 - val_loss: 0.0558 - val_acc: 0.9909\n",
            "Epoch 36/50\n",
            "60000/60000 [==============================] - 9s 157us/step - loss: 0.0052 - acc: 0.9984 - val_loss: 0.0517 - val_acc: 0.9920\n",
            "Epoch 37/50\n",
            "60000/60000 [==============================] - 9s 157us/step - loss: 0.0062 - acc: 0.9983 - val_loss: 0.0550 - val_acc: 0.9920\n",
            "Epoch 38/50\n",
            "60000/60000 [==============================] - 10s 161us/step - loss: 0.0058 - acc: 0.9984 - val_loss: 0.0564 - val_acc: 0.9919\n",
            "Epoch 39/50\n",
            "60000/60000 [==============================] - 9s 155us/step - loss: 0.0037 - acc: 0.9990 - val_loss: 0.0640 - val_acc: 0.9921\n",
            "Epoch 40/50\n",
            "60000/60000 [==============================] - 9s 154us/step - loss: 0.0065 - acc: 0.9984 - val_loss: 0.0578 - val_acc: 0.9914\n",
            "Epoch 41/50\n",
            "60000/60000 [==============================] - 9s 155us/step - loss: 0.0055 - acc: 0.9984 - val_loss: 0.0730 - val_acc: 0.9911\n",
            "Epoch 42/50\n",
            "60000/60000 [==============================] - 9s 155us/step - loss: 0.0057 - acc: 0.9984 - val_loss: 0.0552 - val_acc: 0.9918\n",
            "Epoch 43/50\n",
            "60000/60000 [==============================] - 9s 154us/step - loss: 0.0058 - acc: 0.9985 - val_loss: 0.0559 - val_acc: 0.9924\n",
            "Epoch 44/50\n",
            "60000/60000 [==============================] - 9s 155us/step - loss: 0.0036 - acc: 0.9992 - val_loss: 0.0544 - val_acc: 0.9922\n",
            "Epoch 45/50\n",
            "60000/60000 [==============================] - 9s 156us/step - loss: 0.0061 - acc: 0.9986 - val_loss: 0.0649 - val_acc: 0.9918\n",
            "Epoch 46/50\n",
            "60000/60000 [==============================] - 9s 155us/step - loss: 0.0058 - acc: 0.9985 - val_loss: 0.0538 - val_acc: 0.9912\n",
            "Epoch 47/50\n",
            "60000/60000 [==============================] - 10s 160us/step - loss: 0.0044 - acc: 0.9987 - val_loss: 0.0551 - val_acc: 0.9923\n",
            "Epoch 48/50\n",
            "60000/60000 [==============================] - 9s 155us/step - loss: 0.0055 - acc: 0.9986 - val_loss: 0.0605 - val_acc: 0.9917\n",
            "Epoch 49/50\n",
            "60000/60000 [==============================] - 9s 155us/step - loss: 0.0057 - acc: 0.9986 - val_loss: 0.0604 - val_acc: 0.9918\n",
            "Epoch 50/50\n",
            "60000/60000 [==============================] - 9s 154us/step - loss: 0.0040 - acc: 0.9989 - val_loss: 0.0608 - val_acc: 0.9913\n"
          ],
          "name": "stdout"
        },
        {
          "output_type": "execute_result",
          "data": {
            "text/plain": [
              "<keras.callbacks.History at 0x7f0820680198>"
            ]
          },
          "metadata": {
            "tags": []
          },
          "execution_count": 28
        }
      ]
    },
    {
      "cell_type": "code",
      "metadata": {
        "id": "6RR_c3lTHvcV",
        "colab_type": "code",
        "colab": {
          "base_uri": "https://localhost:8080/",
          "height": 309
        },
        "outputId": "a5ed2dc4-3c7d-4659-cd6c-ddff26afb54b"
      },
      "source": [
        "!nvidia-smi"
      ],
      "execution_count": 29,
      "outputs": [
        {
          "output_type": "stream",
          "text": [
            "Sat Feb  8 09:43:11 2020       \n",
            "+-----------------------------------------------------------------------------+\n",
            "| NVIDIA-SMI 440.48.02    Driver Version: 418.67       CUDA Version: 10.1     |\n",
            "|-------------------------------+----------------------+----------------------+\n",
            "| GPU  Name        Persistence-M| Bus-Id        Disp.A | Volatile Uncorr. ECC |\n",
            "| Fan  Temp  Perf  Pwr:Usage/Cap|         Memory-Usage | GPU-Util  Compute M. |\n",
            "|===============================+======================+======================|\n",
            "|   0  Tesla P100-PCIE...  Off  | 00000000:00:04.0 Off |                    0 |\n",
            "| N/A   44C    P0    32W / 250W |    677MiB / 16280MiB |      0%      Default |\n",
            "+-------------------------------+----------------------+----------------------+\n",
            "                                                                               \n",
            "+-----------------------------------------------------------------------------+\n",
            "| Processes:                                                       GPU Memory |\n",
            "|  GPU       PID   Type   Process name                             Usage      |\n",
            "|=============================================================================|\n",
            "+-----------------------------------------------------------------------------+\n"
          ],
          "name": "stdout"
        }
      ]
    },
    {
      "cell_type": "code",
      "metadata": {
        "id": "7M7L56u-UGCK",
        "colab_type": "code",
        "colab": {}
      },
      "source": [
        ""
      ],
      "execution_count": 0,
      "outputs": []
    }
  ]
}